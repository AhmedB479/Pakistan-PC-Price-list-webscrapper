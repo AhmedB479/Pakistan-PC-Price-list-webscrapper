{
  "nbformat": 4,
  "nbformat_minor": 0,
  "metadata": {
    "colab": {
      "provenance": [],
      "collapsed_sections": [
        "u30zdA0Q63oe"
      ],
      "authorship_tag": "ABX9TyPHAXwLJ6VD3B55DtBU3QPO",
      "include_colab_link": true
    },
    "kernelspec": {
      "name": "python3",
      "display_name": "Python 3"
    },
    "language_info": {
      "name": "python"
    }
  },
  "cells": [
    {
      "cell_type": "markdown",
      "metadata": {
        "id": "view-in-github",
        "colab_type": "text"
      },
      "source": [
        "<a href=\"https://colab.research.google.com/github/AhmedB479/Pakistan-PC-Price-list-webscrapper/blob/main/PC_Part_Scraper.ipynb\" target=\"_parent\"><img src=\"https://colab.research.google.com/assets/colab-badge.svg\" alt=\"Open In Colab\"/></a>"
      ]
    },
    {
      "cell_type": "code",
      "source": [
        "pip install beautifulsoup4"
      ],
      "metadata": {
        "colab": {
          "base_uri": "https://localhost:8080/"
        },
        "id": "sDICZTRbA-AX",
        "outputId": "0353f49d-c61d-4dc4-ce6f-9c0376bc8f23"
      },
      "execution_count": 1,
      "outputs": [
        {
          "output_type": "stream",
          "name": "stdout",
          "text": [
            "Requirement already satisfied: beautifulsoup4 in /usr/local/lib/python3.10/dist-packages (4.12.3)\n",
            "Requirement already satisfied: soupsieve>1.2 in /usr/local/lib/python3.10/dist-packages (from beautifulsoup4) (2.5)\n"
          ]
        }
      ]
    },
    {
      "cell_type": "code",
      "execution_count": 2,
      "metadata": {
        "id": "2NKHuhWCAd1G"
      },
      "outputs": [],
      "source": [
        "from bs4 import BeautifulSoup as bs\n",
        "import pandas as pd\n",
        "import requests\n",
        "import time\n",
        "import random"
      ]
    },
    {
      "cell_type": "markdown",
      "source": [
        "#Xtreme Hardware Scrape"
      ],
      "metadata": {
        "id": "u30zdA0Q63oe"
      }
    },
    {
      "cell_type": "code",
      "source": [
        "USER_AGENTS = [\n",
        "    \"Mozilla/5.0 (Windows NT 10.0; Win64; x64) AppleWebKit/537.36 (KHTML, like Gecko) Chrome/58.0.3029.110 Safari/537.3\",\n",
        "    \"Mozilla/5.0 (Windows NT 10.0; Win64; x64) AppleWebKit/537.36 (KHTML, like Gecko) Chrome/91.0.4472.124 Safari/537.36\",\n",
        "    \"Mozilla/5.0 (Windows NT 10.0; Win64; x64) AppleWebKit/537.36 (KHTML, like Gecko) Chrome/94.0.4606.81 Safari/537.36\",\n",
        "    \"Mozilla/5.0 (Windows NT 10.0; Win64; x64; rv:91.0) Gecko/20100101 Firefox/91.0\",\n",
        "    \"Mozilla/5.0 (Windows NT 10.0; Win64; x64; rv:94.0) Gecko/20100101 Firefox/94.0\"\n",
        "]\n",
        "def nextpage(base_url,category,page_number):\n",
        "  return (f'{base_url}{category}/page/{page_number}/')\n",
        "def scrap(url,interval):\n",
        "  header = {'User-Agent': random.choice(USER_AGENTS)}\n",
        "  response = requests.get(url,headers=header)\n",
        "  time.sleep(interval)\n",
        "  soup = bs(response.content,'html.parser')\n",
        "  return soup\n",
        "\n",
        "def get_all_pages(base_url,category,max_pages):\n",
        "  all_data = bs(\"\",\"html.parser\")\n",
        "  for page_number in range(1,max_pages+1):\n",
        "    url = nextpage(base_url,category,page_number)\n",
        "    soup = scrap(url,1)\n",
        "    all_data.append(soup)\n",
        "  return all_data\n",
        "\n",
        "\n",
        "urls = []\n",
        "category = [\"processors/\",\"graphic-cards/\",\"memory-module-ram/\",\"motherboard/\",\"hard-drives/\",\"solid-state-drives-ssd/\",\"keyboard/\"]\n",
        "base_url = \"https://xtremehardware.pk/product-category/\"\n",
        "index = 6\n",
        "xtreme = bs(\"\",\"html.parser\")\n",
        "xtreme = get_all_pages(base_url,category[index],2)"
      ],
      "metadata": {
        "id": "xDapajMwArKj"
      },
      "execution_count": 8,
      "outputs": []
    },
    {
      "cell_type": "code",
      "source": [
        "xtreme_elements = xtreme.find_all('h3',class_='wd-entities-title')\n",
        "for xtreme_element in xtreme_elements:\n",
        "  name_element = xtreme_element.find('a')\n",
        "  name = name_element.text.strip() if name_element else None\n",
        "  href = name_element['href'] if name_element else None\n",
        "\n",
        "  price_element = xtreme_element.find_next_sibling('span',class_='price')\n",
        "  price = price_element.text.strip() if price_element else None\n",
        "\n",
        "  print(f\"Name: {name}\")\n",
        "  print(f\"Link: {href}\")\n",
        "  print(f\"Price: {price}\\n\")"
      ],
      "metadata": {
        "colab": {
          "base_uri": "https://localhost:8080/"
        },
        "id": "nEdmKGrzJVaD",
        "outputId": "ed0cab88-a453-43e8-c871-f022b755d712"
      },
      "execution_count": 9,
      "outputs": [
        {
          "output_type": "stream",
          "name": "stdout",
          "text": [
            "Name: K55 RGB PRO Gaming Keyboard\n",
            "Link: https://xtremehardware.pk/product/k55-rgb-pro-gaming-keyboard/\n",
            "Price: ₨14,500\n",
            "\n"
          ]
        }
      ]
    },
    {
      "cell_type": "markdown",
      "source": [
        "#CZONE"
      ],
      "metadata": {
        "id": "7iuWDKKM6_zF"
      }
    },
    {
      "cell_type": "code",
      "source": [],
      "metadata": {
        "id": "pFHwX-ZF7Ect"
      },
      "execution_count": null,
      "outputs": []
    }
  ]
}