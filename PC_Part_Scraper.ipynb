{
  "nbformat": 4,
  "nbformat_minor": 0,
  "metadata": {
    "colab": {
      "provenance": [],
      "authorship_tag": "ABX9TyOIlc3DrW40fO+2kZkTIVyP",
      "include_colab_link": true
    },
    "kernelspec": {
      "name": "python3",
      "display_name": "Python 3"
    },
    "language_info": {
      "name": "python"
    }
  },
  "cells": [
    {
      "cell_type": "markdown",
      "metadata": {
        "id": "view-in-github",
        "colab_type": "text"
      },
      "source": [
        "<a href=\"https://colab.research.google.com/github/AhmedB479/Pakistan-PC-Price-list-webscrapper/blob/main/PC_Part_Scraper.ipynb\" target=\"_parent\"><img src=\"https://colab.research.google.com/assets/colab-badge.svg\" alt=\"Open In Colab\"/></a>"
      ]
    },
    {
      "cell_type": "code",
      "source": [
        "pip install beautifulsoup4"
      ],
      "metadata": {
        "colab": {
          "base_uri": "https://localhost:8080/"
        },
        "id": "sDICZTRbA-AX",
        "outputId": "f0e18305-8bd1-47f4-e557-203e1e18d993"
      },
      "execution_count": null,
      "outputs": [
        {
          "output_type": "stream",
          "name": "stdout",
          "text": [
            "Requirement already satisfied: beautifulsoup4 in /usr/local/lib/python3.10/dist-packages (4.12.3)\n",
            "Requirement already satisfied: soupsieve>1.2 in /usr/local/lib/python3.10/dist-packages (from beautifulsoup4) (2.5)\n"
          ]
        }
      ]
    },
    {
      "cell_type": "code",
      "execution_count": null,
      "metadata": {
        "id": "2NKHuhWCAd1G"
      },
      "outputs": [],
      "source": [
        "from bs4 import BeautifulSoup as bs\n",
        "import pandas as pd\n",
        "import requests\n",
        "import time\n",
        "import random"
      ]
    },
    {
      "cell_type": "code",
      "source": [
        "USER_AGENTS = [\n",
        "    \"Mozilla/5.0 (Windows NT 10.0; Win64; x64) AppleWebKit/537.36 (KHTML, like Gecko) Chrome/58.0.3029.110 Safari/537.3\",\n",
        "    \"Mozilla/5.0 (Windows NT 10.0; Win64; x64) AppleWebKit/537.36 (KHTML, like Gecko) Chrome/91.0.4472.124 Safari/537.36\",\n",
        "    \"Mozilla/5.0 (Windows NT 10.0; Win64; x64) AppleWebKit/537.36 (KHTML, like Gecko) Chrome/94.0.4606.81 Safari/537.36\",\n",
        "    \"Mozilla/5.0 (Windows NT 10.0; Win64; x64; rv:91.0) Gecko/20100101 Firefox/91.0\",\n",
        "    \"Mozilla/5.0 (Windows NT 10.0; Win64; x64; rv:94.0) Gecko/20100101 Firefox/94.0\"\n",
        "]\n",
        "def nextpage(base_url,category,page_number):\n",
        "  return (f'{base_url}{category}/page/{page_number}/')\n",
        "def scrap(url,interval):\n",
        "  header = {'User-Agent': random.choice(USER_AGENTS)}\n",
        "  response = requests.get(url,headers=header)\n",
        "  time.sleep(interval)\n",
        "  soup = bs(response.content,'html.parser')\n",
        "  return soup\n",
        "\n",
        "def get_all_pages(base_url,category,max_pages):\n",
        "  all_data = bs(\"\",\"html.parser\")\n",
        "  for page_number in range(1,max_pages+1):\n",
        "    url = nextpage(base_url,category,page_number)\n",
        "    soup = scrap(url,1)\n",
        "    all_data.append(soup.find_all(True))\n",
        "  return all_data\n",
        "\n",
        "\n",
        "urls = []\n",
        "category = [\"processors/\",\"graphic-cards/\",\"memory-module-ram/\",\"motherboard/\",\"hard-drives/\",\"solid-state-drives-ssd/\"]\n",
        "base_url = \"https://xtremehardware.pk/product-category/\"\n",
        "index = 1\n",
        "xtreme_direct = bs(\"\",\"html.parser\")\n",
        "xtreme_direct = get_all_pages(base_url,category[index],2)\n"
      ],
      "metadata": {
        "id": "xDapajMwArKj",
        "colab": {
          "base_uri": "https://localhost:8080/",
          "height": 356
        },
        "outputId": "77fecd21-9b0e-485a-9240-9d85e5464a63"
      },
      "execution_count": null,
      "outputs": [
        {
          "output_type": "error",
          "ename": "AttributeError",
          "evalue": "ResultSet object has no attribute '_last_descendant'. You're probably treating a list of elements like a single element. Did you call find_all() when you meant to call find()?",
          "traceback": [
            "\u001b[0;31m---------------------------------------------------------------------------\u001b[0m",
            "\u001b[0;31mAttributeError\u001b[0m                            Traceback (most recent call last)",
            "\u001b[0;32m<ipython-input-117-ac2c9cacbd21>\u001b[0m in \u001b[0;36m<cell line: 31>\u001b[0;34m()\u001b[0m\n\u001b[1;32m     29\u001b[0m \u001b[0mindex\u001b[0m \u001b[0;34m=\u001b[0m \u001b[0;36m1\u001b[0m\u001b[0;34m\u001b[0m\u001b[0;34m\u001b[0m\u001b[0m\n\u001b[1;32m     30\u001b[0m \u001b[0mxtreme_direct\u001b[0m \u001b[0;34m=\u001b[0m \u001b[0mbs\u001b[0m\u001b[0;34m(\u001b[0m\u001b[0;34m\"\"\u001b[0m\u001b[0;34m,\u001b[0m\u001b[0;34m\"html.parser\"\u001b[0m\u001b[0;34m)\u001b[0m\u001b[0;34m\u001b[0m\u001b[0;34m\u001b[0m\u001b[0m\n\u001b[0;32m---> 31\u001b[0;31m \u001b[0mxtreme_direct\u001b[0m \u001b[0;34m=\u001b[0m \u001b[0mget_all_pages\u001b[0m\u001b[0;34m(\u001b[0m\u001b[0mbase_url\u001b[0m\u001b[0;34m,\u001b[0m\u001b[0mcategory\u001b[0m\u001b[0;34m[\u001b[0m\u001b[0mindex\u001b[0m\u001b[0;34m]\u001b[0m\u001b[0;34m,\u001b[0m\u001b[0;36m2\u001b[0m\u001b[0;34m)\u001b[0m\u001b[0;34m\u001b[0m\u001b[0;34m\u001b[0m\u001b[0m\n\u001b[0m",
            "\u001b[0;32m<ipython-input-117-ac2c9cacbd21>\u001b[0m in \u001b[0;36mget_all_pages\u001b[0;34m(base_url, category, max_pages)\u001b[0m\n\u001b[1;32m     20\u001b[0m     \u001b[0murl\u001b[0m \u001b[0;34m=\u001b[0m \u001b[0mnextpage\u001b[0m\u001b[0;34m(\u001b[0m\u001b[0mbase_url\u001b[0m\u001b[0;34m,\u001b[0m\u001b[0mcategory\u001b[0m\u001b[0;34m,\u001b[0m\u001b[0mpage_number\u001b[0m\u001b[0;34m)\u001b[0m\u001b[0;34m\u001b[0m\u001b[0;34m\u001b[0m\u001b[0m\n\u001b[1;32m     21\u001b[0m     \u001b[0msoup\u001b[0m \u001b[0;34m=\u001b[0m \u001b[0mscrap\u001b[0m\u001b[0;34m(\u001b[0m\u001b[0murl\u001b[0m\u001b[0;34m,\u001b[0m\u001b[0;36m1\u001b[0m\u001b[0;34m)\u001b[0m\u001b[0;34m\u001b[0m\u001b[0;34m\u001b[0m\u001b[0m\n\u001b[0;32m---> 22\u001b[0;31m     \u001b[0mall_data\u001b[0m\u001b[0;34m.\u001b[0m\u001b[0mappend\u001b[0m\u001b[0;34m(\u001b[0m\u001b[0msoup\u001b[0m\u001b[0;34m.\u001b[0m\u001b[0mfind_all\u001b[0m\u001b[0;34m(\u001b[0m\u001b[0;32mTrue\u001b[0m\u001b[0;34m)\u001b[0m\u001b[0;34m)\u001b[0m\u001b[0;34m\u001b[0m\u001b[0;34m\u001b[0m\u001b[0m\n\u001b[0m\u001b[1;32m     23\u001b[0m   \u001b[0;32mreturn\u001b[0m \u001b[0mall_data\u001b[0m\u001b[0;34m\u001b[0m\u001b[0;34m\u001b[0m\u001b[0m\n\u001b[1;32m     24\u001b[0m \u001b[0;34m\u001b[0m\u001b[0m\n",
            "\u001b[0;32m/usr/local/lib/python3.10/dist-packages/bs4/element.py\u001b[0m in \u001b[0;36mappend\u001b[0;34m(self, tag)\u001b[0m\n\u001b[1;32m    491\u001b[0m         \u001b[0;34m:\u001b[0m\u001b[0mparam\u001b[0m \u001b[0mtag\u001b[0m\u001b[0;34m:\u001b[0m \u001b[0mA\u001b[0m \u001b[0mPageElement\u001b[0m\u001b[0;34m.\u001b[0m\u001b[0;34m\u001b[0m\u001b[0;34m\u001b[0m\u001b[0m\n\u001b[1;32m    492\u001b[0m         \"\"\"\n\u001b[0;32m--> 493\u001b[0;31m         \u001b[0mself\u001b[0m\u001b[0;34m.\u001b[0m\u001b[0minsert\u001b[0m\u001b[0;34m(\u001b[0m\u001b[0mlen\u001b[0m\u001b[0;34m(\u001b[0m\u001b[0mself\u001b[0m\u001b[0;34m.\u001b[0m\u001b[0mcontents\u001b[0m\u001b[0;34m)\u001b[0m\u001b[0;34m,\u001b[0m \u001b[0mtag\u001b[0m\u001b[0;34m)\u001b[0m\u001b[0;34m\u001b[0m\u001b[0;34m\u001b[0m\u001b[0m\n\u001b[0m\u001b[1;32m    494\u001b[0m \u001b[0;34m\u001b[0m\u001b[0m\n\u001b[1;32m    495\u001b[0m     \u001b[0;32mdef\u001b[0m \u001b[0mextend\u001b[0m\u001b[0;34m(\u001b[0m\u001b[0mself\u001b[0m\u001b[0;34m,\u001b[0m \u001b[0mtags\u001b[0m\u001b[0;34m)\u001b[0m\u001b[0;34m:\u001b[0m\u001b[0;34m\u001b[0m\u001b[0;34m\u001b[0m\u001b[0m\n",
            "\u001b[0;32m/usr/local/lib/python3.10/dist-packages/bs4/element.py\u001b[0m in \u001b[0;36minsert\u001b[0;34m(self, position, new_child)\u001b[0m\n\u001b[1;32m    456\u001b[0m             \u001b[0mnew_child\u001b[0m\u001b[0;34m.\u001b[0m\u001b[0mprevious_element\u001b[0m\u001b[0;34m.\u001b[0m\u001b[0mnext_element\u001b[0m \u001b[0;34m=\u001b[0m \u001b[0mnew_child\u001b[0m\u001b[0;34m\u001b[0m\u001b[0;34m\u001b[0m\u001b[0m\n\u001b[1;32m    457\u001b[0m \u001b[0;34m\u001b[0m\u001b[0m\n\u001b[0;32m--> 458\u001b[0;31m         \u001b[0mnew_childs_last_element\u001b[0m \u001b[0;34m=\u001b[0m \u001b[0mnew_child\u001b[0m\u001b[0;34m.\u001b[0m\u001b[0m_last_descendant\u001b[0m\u001b[0;34m(\u001b[0m\u001b[0;32mFalse\u001b[0m\u001b[0;34m)\u001b[0m\u001b[0;34m\u001b[0m\u001b[0;34m\u001b[0m\u001b[0m\n\u001b[0m\u001b[1;32m    459\u001b[0m \u001b[0;34m\u001b[0m\u001b[0m\n\u001b[1;32m    460\u001b[0m         \u001b[0;32mif\u001b[0m \u001b[0mposition\u001b[0m \u001b[0;34m>=\u001b[0m \u001b[0mlen\u001b[0m\u001b[0;34m(\u001b[0m\u001b[0mself\u001b[0m\u001b[0;34m.\u001b[0m\u001b[0mcontents\u001b[0m\u001b[0;34m)\u001b[0m\u001b[0;34m:\u001b[0m\u001b[0;34m\u001b[0m\u001b[0;34m\u001b[0m\u001b[0m\n",
            "\u001b[0;32m/usr/local/lib/python3.10/dist-packages/bs4/element.py\u001b[0m in \u001b[0;36m__getattr__\u001b[0;34m(self, key)\u001b[0m\n\u001b[1;32m   2431\u001b[0m     \u001b[0;32mdef\u001b[0m \u001b[0m__getattr__\u001b[0m\u001b[0;34m(\u001b[0m\u001b[0mself\u001b[0m\u001b[0;34m,\u001b[0m \u001b[0mkey\u001b[0m\u001b[0;34m)\u001b[0m\u001b[0;34m:\u001b[0m\u001b[0;34m\u001b[0m\u001b[0;34m\u001b[0m\u001b[0m\n\u001b[1;32m   2432\u001b[0m         \u001b[0;34m\"\"\"Raise a helpful exception to explain a common code fix.\"\"\"\u001b[0m\u001b[0;34m\u001b[0m\u001b[0;34m\u001b[0m\u001b[0m\n\u001b[0;32m-> 2433\u001b[0;31m         raise AttributeError(\n\u001b[0m\u001b[1;32m   2434\u001b[0m             \u001b[0;34m\"ResultSet object has no attribute '%s'. You're probably treating a list of elements like a single element. Did you call find_all() when you meant to call find()?\"\u001b[0m \u001b[0;34m%\u001b[0m \u001b[0mkey\u001b[0m\u001b[0;34m\u001b[0m\u001b[0;34m\u001b[0m\u001b[0m\n\u001b[1;32m   2435\u001b[0m         )\n",
            "\u001b[0;31mAttributeError\u001b[0m: ResultSet object has no attribute '_last_descendant'. You're probably treating a list of elements like a single element. Did you call find_all() when you meant to call find()?"
          ]
        }
      ]
    },
    {
      "cell_type": "code",
      "source": [
        "xtreme_elements = xtreme.find_all('h3',class_='wd-entities-title')\n",
        "for xtreme_element in xtreme_elements:\n",
        "  name_element = xtreme_element.find('a')\n",
        "  name = name_element.text.strip() if name_element else None\n",
        "  href = name_element['href'] if name_element else None\n",
        "\n",
        "  price_element = xtreme_element.find_next_sibling('span',class_='price')\n",
        "  price = price_element.text.strip() if price_element else None\n",
        "\n",
        "  print(f\"Name: {name}\")\n",
        "  print(f\"Link: {href}\")\n",
        "  print(f\"Price: {price}\\n\")"
      ],
      "metadata": {
        "colab": {
          "base_uri": "https://localhost:8080/"
        },
        "id": "nEdmKGrzJVaD",
        "outputId": "1c0bc1e2-6c51-4eb1-fd25-c8f39d60fee9"
      },
      "execution_count": null,
      "outputs": [
        {
          "output_type": "stream",
          "name": "stdout",
          "text": [
            "Name: None\n",
            "Link: None\n",
            "Price: \n",
            "\n",
            "Name: None\n",
            "Link: None\n",
            "Price: \n",
            "\n",
            "Name: None\n",
            "Link: None\n",
            "Price: \n",
            "\n",
            "Name: None\n",
            "Link: None\n",
            "Price: \n",
            "\n",
            "Name: None\n",
            "Link: None\n",
            "Price: \n",
            "\n",
            "Name: None\n",
            "Link: None\n",
            "Price: \n",
            "\n",
            "Name: None\n",
            "Link: None\n",
            "Price: \n",
            "\n",
            "Name: None\n",
            "Link: None\n",
            "Price: \n",
            "\n",
            "Name: None\n",
            "Link: None\n",
            "Price: \n",
            "\n",
            "Name: None\n",
            "Link: None\n",
            "Price: \n",
            "\n",
            "Name: None\n",
            "Link: None\n",
            "Price: \n",
            "\n",
            "Name: None\n",
            "Link: None\n",
            "Price: \n",
            "\n",
            "Name: None\n",
            "Link: None\n",
            "Price: \n",
            "\n",
            "Name: None\n",
            "Link: None\n",
            "Price: \n",
            "\n",
            "Name: None\n",
            "Link: None\n",
            "Price: \n",
            "\n",
            "Name: None\n",
            "Link: None\n",
            "Price: \n",
            "\n",
            "Name: None\n",
            "Link: None\n",
            "Price: \n",
            "\n",
            "Name: None\n",
            "Link: None\n",
            "Price: \n",
            "\n",
            "Name: None\n",
            "Link: None\n",
            "Price: \n",
            "\n",
            "Name: None\n",
            "Link: None\n",
            "Price: \n",
            "\n"
          ]
        }
      ]
    }
  ]
}